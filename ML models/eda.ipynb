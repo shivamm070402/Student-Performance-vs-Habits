{
 "cells": [
  {
   "cell_type": "markdown",
   "id": "03ca1bb9",
   "metadata": {},
   "source": [
    "# About Data\n",
    "\n",
    "### URL : https://www.kaggle.com/datasets/jayaantanaath/student-habits-vs-academic-performance/code \n",
    "\n",
    "* 1. Student Id\n",
    "* 2. age : Age of Students\n",
    "* 3. gender : Male/Female/Other\n",
    "* 4. study_hours_per_day : Avg. daily study time\n",
    "* 5. social_media_hours : Daily social media time\n",
    "* 6. netflix_hours: Avg. daily Netflix/binging time\n",
    "* 7. part_time_job: Yes/No\n",
    "* 8. attendance_percentage: Class attendance (0–100%)\n",
    "* 9. sleep_hours : Avg. daily sleep\n",
    "* 10. diet_quality : Poor/Fair/Good\n"
   ]
  },
  {
   "cell_type": "markdown",
   "id": "58f645da",
   "metadata": {},
   "source": [
    "# 1. Data Preprocessing"
   ]
  },
  {
   "cell_type": "markdown",
   "id": "387ec920",
   "metadata": {},
   "source": [
    "## 1.1 Import Necessary Libraries"
   ]
  },
  {
   "cell_type": "code",
   "execution_count": null,
   "id": "e26c320d",
   "metadata": {},
   "outputs": [
    {
     "ename": "",
     "evalue": "",
     "output_type": "error",
     "traceback": [
      "\u001b[1;31mRunning cells with 'myenv (Python 3.10.16)' requires the ipykernel package.\n",
      "\u001b[1;31m<a href='command:jupyter.createPythonEnvAndSelectController'>Create a Python Environment</a> with the required packages."
     ]
    }
   ],
   "source": [
    "# importing libraries\n",
    "import pandas as pd\n",
    "import scipy\n",
    "from sklearn.preprocessing import MinMaxScaler\n",
    "import seaborn as sns\n",
    "import matplotlib.pyplot as plt"
   ]
  }
 ],
 "metadata": {
  "kernelspec": {
   "display_name": "myenv",
   "language": "python",
   "name": "python3"
  },
  "language_info": {
   "name": "python",
   "version": "3.10.16"
  }
 },
 "nbformat": 4,
 "nbformat_minor": 5
}
